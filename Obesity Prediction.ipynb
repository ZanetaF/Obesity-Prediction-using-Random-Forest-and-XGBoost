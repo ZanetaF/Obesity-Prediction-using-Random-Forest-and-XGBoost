{
 "cells": [
  {
   "cell_type": "markdown",
   "id": "53808804",
   "metadata": {},
   "source": [
    "# Zaneta Fransiske - 2702312146\n",
    "## Case 1B (Obesity)"
   ]
  },
  {
   "cell_type": "markdown",
   "id": "75892224",
   "metadata": {},
   "source": [
    "<span style=\"color: red; font-size: 19px;\"> A. Exploratory Data Analysis (EDA)</span>"
   ]
  },
  {
   "cell_type": "code",
   "execution_count": 17,
   "id": "8e7a2012",
   "metadata": {},
   "outputs": [
    {
     "data": {
      "text/html": [
       "<div>\n",
       "<style scoped>\n",
       "    .dataframe tbody tr th:only-of-type {\n",
       "        vertical-align: middle;\n",
       "    }\n",
       "\n",
       "    .dataframe tbody tr th {\n",
       "        vertical-align: top;\n",
       "    }\n",
       "\n",
       "    .dataframe thead th {\n",
       "        text-align: right;\n",
       "    }\n",
       "</style>\n",
       "<table border=\"1\" class=\"dataframe\">\n",
       "  <thead>\n",
       "    <tr style=\"text-align: right;\">\n",
       "      <th></th>\n",
       "      <th>Gender</th>\n",
       "      <th>Birth Date</th>\n",
       "      <th>Height</th>\n",
       "      <th>Weight</th>\n",
       "      <th>family_history_with_overweight</th>\n",
       "      <th>High Calorie Meal Freq</th>\n",
       "      <th>Veggies in Meals freq</th>\n",
       "      <th>Daily Main Meals</th>\n",
       "      <th>Snack Frequency</th>\n",
       "      <th>Smoking</th>\n",
       "      <th>Daily Water Consumption</th>\n",
       "      <th>Weekly Physical Activity</th>\n",
       "      <th>Alcohol</th>\n",
       "      <th>Transportation</th>\n",
       "      <th>Obesity level</th>\n",
       "    </tr>\n",
       "  </thead>\n",
       "  <tbody>\n",
       "    <tr>\n",
       "      <th>0</th>\n",
       "      <td>Female</td>\n",
       "      <td>2003/02/05</td>\n",
       "      <td>1.62</td>\n",
       "      <td>64.0</td>\n",
       "      <td>yes</td>\n",
       "      <td>no</td>\n",
       "      <td>2.0</td>\n",
       "      <td>3.0</td>\n",
       "      <td>Sometimes</td>\n",
       "      <td>no</td>\n",
       "      <td>2.0</td>\n",
       "      <td>0.0</td>\n",
       "      <td>no</td>\n",
       "      <td>Public_Transportation</td>\n",
       "      <td>Normal_Weight</td>\n",
       "    </tr>\n",
       "    <tr>\n",
       "      <th>1</th>\n",
       "      <td>Female</td>\n",
       "      <td>2003/06/13</td>\n",
       "      <td>1.52</td>\n",
       "      <td>56.0</td>\n",
       "      <td>yes</td>\n",
       "      <td>no</td>\n",
       "      <td>3.0</td>\n",
       "      <td>3.0</td>\n",
       "      <td>Sometimes</td>\n",
       "      <td>yes</td>\n",
       "      <td>3.0</td>\n",
       "      <td>3.0</td>\n",
       "      <td>Sometimes</td>\n",
       "      <td>Public_Transportation</td>\n",
       "      <td>Normal_Weight</td>\n",
       "    </tr>\n",
       "    <tr>\n",
       "      <th>2</th>\n",
       "      <td>Male</td>\n",
       "      <td>2001/06/25</td>\n",
       "      <td>1.80</td>\n",
       "      <td>77.0</td>\n",
       "      <td>yes</td>\n",
       "      <td>no</td>\n",
       "      <td>2.0</td>\n",
       "      <td>3.0</td>\n",
       "      <td>Sometimes</td>\n",
       "      <td>no</td>\n",
       "      <td>2.0</td>\n",
       "      <td>2.0</td>\n",
       "      <td>Frequently</td>\n",
       "      <td>Public_Transportation</td>\n",
       "      <td>Normal_Weight</td>\n",
       "    </tr>\n",
       "    <tr>\n",
       "      <th>3</th>\n",
       "      <td>Male</td>\n",
       "      <td>1997/08/14</td>\n",
       "      <td>1.80</td>\n",
       "      <td>87.0</td>\n",
       "      <td>no</td>\n",
       "      <td>no</td>\n",
       "      <td>3.0</td>\n",
       "      <td>3.0</td>\n",
       "      <td>Sometimes</td>\n",
       "      <td>no</td>\n",
       "      <td>2.0</td>\n",
       "      <td>2.0</td>\n",
       "      <td>Frequently</td>\n",
       "      <td>Walking</td>\n",
       "      <td>Overweight_Level_I</td>\n",
       "    </tr>\n",
       "    <tr>\n",
       "      <th>4</th>\n",
       "      <td>Male</td>\n",
       "      <td>2002/05/14</td>\n",
       "      <td>1.78</td>\n",
       "      <td>89.8</td>\n",
       "      <td>no</td>\n",
       "      <td>no</td>\n",
       "      <td>2.0</td>\n",
       "      <td>1.0</td>\n",
       "      <td>Sometimes</td>\n",
       "      <td>no</td>\n",
       "      <td>2.0</td>\n",
       "      <td>0.0</td>\n",
       "      <td>Sometimes</td>\n",
       "      <td>Public_Transportation</td>\n",
       "      <td>Overweight_Level_II</td>\n",
       "    </tr>\n",
       "  </tbody>\n",
       "</table>\n",
       "</div>"
      ],
      "text/plain": [
       "   Gender  Birth Date  Height Weight family_history_with_overweight  \\\n",
       "0  Female  2003/02/05    1.62   64.0                            yes   \n",
       "1  Female  2003/06/13    1.52   56.0                            yes   \n",
       "2    Male  2001/06/25    1.80   77.0                            yes   \n",
       "3    Male  1997/08/14    1.80   87.0                             no   \n",
       "4    Male  2002/05/14    1.78   89.8                             no   \n",
       "\n",
       "  High Calorie Meal Freq  Veggies in Meals freq  Daily Main Meals  \\\n",
       "0                     no                    2.0               3.0   \n",
       "1                     no                    3.0               3.0   \n",
       "2                     no                    2.0               3.0   \n",
       "3                     no                    3.0               3.0   \n",
       "4                     no                    2.0               1.0   \n",
       "\n",
       "  Snack Frequency Smoking  Daily Water Consumption  Weekly Physical Activity  \\\n",
       "0       Sometimes      no                      2.0                       0.0   \n",
       "1       Sometimes     yes                      3.0                       3.0   \n",
       "2       Sometimes      no                      2.0                       2.0   \n",
       "3       Sometimes      no                      2.0                       2.0   \n",
       "4       Sometimes      no                      2.0                       0.0   \n",
       "\n",
       "      Alcohol         Transportation        Obesity level  \n",
       "0          no  Public_Transportation        Normal_Weight  \n",
       "1   Sometimes  Public_Transportation        Normal_Weight  \n",
       "2  Frequently  Public_Transportation        Normal_Weight  \n",
       "3  Frequently                Walking   Overweight_Level_I  \n",
       "4   Sometimes  Public_Transportation  Overweight_Level_II  "
      ]
     },
     "execution_count": 17,
     "metadata": {},
     "output_type": "execute_result"
    }
   ],
   "source": [
    "import numpy as np\n",
    "import pandas as pd\n",
    "import matplotlib.pyplot as plt\n",
    "import seaborn as sns\n",
    "\n",
    "df = pd.read_csv('C:/COOLYEAH/UAS ML/1B.csv', delimiter =\",\")\n",
    "\n",
    "df.head()"
   ]
  },
  {
   "cell_type": "code",
   "execution_count": 3,
   "id": "c585504c",
   "metadata": {},
   "outputs": [
    {
     "data": {
      "text/html": [
       "<div>\n",
       "<style scoped>\n",
       "    .dataframe tbody tr th:only-of-type {\n",
       "        vertical-align: middle;\n",
       "    }\n",
       "\n",
       "    .dataframe tbody tr th {\n",
       "        vertical-align: top;\n",
       "    }\n",
       "\n",
       "    .dataframe thead th {\n",
       "        text-align: right;\n",
       "    }\n",
       "</style>\n",
       "<table border=\"1\" class=\"dataframe\">\n",
       "  <thead>\n",
       "    <tr style=\"text-align: right;\">\n",
       "      <th></th>\n",
       "      <th>Gender</th>\n",
       "      <th>Birth Date</th>\n",
       "      <th>Height</th>\n",
       "      <th>Weight</th>\n",
       "      <th>family_history_with_overweight</th>\n",
       "      <th>High Calorie Meal Freq</th>\n",
       "      <th>Veggies in Meals freq</th>\n",
       "      <th>Daily Main Meals</th>\n",
       "      <th>Snack Frequency</th>\n",
       "      <th>Smoking</th>\n",
       "      <th>Daily Water Consumption</th>\n",
       "      <th>Weekly Physical Activity</th>\n",
       "      <th>Alcohol</th>\n",
       "      <th>Transportation</th>\n",
       "      <th>Obesity level</th>\n",
       "    </tr>\n",
       "  </thead>\n",
       "  <tbody>\n",
       "    <tr>\n",
       "      <th>2106</th>\n",
       "      <td>Female</td>\n",
       "      <td>2003/11/15</td>\n",
       "      <td>1.710730</td>\n",
       "      <td>131.408528</td>\n",
       "      <td>yes</td>\n",
       "      <td>yes</td>\n",
       "      <td>3.0</td>\n",
       "      <td>3.0</td>\n",
       "      <td>Sometimes</td>\n",
       "      <td>no</td>\n",
       "      <td>1.728139</td>\n",
       "      <td>1.676269</td>\n",
       "      <td>Sometimes</td>\n",
       "      <td>Public_Transportation</td>\n",
       "      <td>Obesity_Type_III</td>\n",
       "    </tr>\n",
       "    <tr>\n",
       "      <th>2107</th>\n",
       "      <td>Female</td>\n",
       "      <td>2002/08/05</td>\n",
       "      <td>1.748584</td>\n",
       "      <td>133.742943</td>\n",
       "      <td>yes</td>\n",
       "      <td>yes</td>\n",
       "      <td>3.0</td>\n",
       "      <td>3.0</td>\n",
       "      <td>Sometimes</td>\n",
       "      <td>no</td>\n",
       "      <td>2.005130</td>\n",
       "      <td>1.341390</td>\n",
       "      <td>Sometimes</td>\n",
       "      <td>Public_Transportation</td>\n",
       "      <td>Obesity_Type_III</td>\n",
       "    </tr>\n",
       "    <tr>\n",
       "      <th>2108</th>\n",
       "      <td>Female</td>\n",
       "      <td>2001/01/03</td>\n",
       "      <td>1.752206</td>\n",
       "      <td>133.689352</td>\n",
       "      <td>yes</td>\n",
       "      <td>yes</td>\n",
       "      <td>3.0</td>\n",
       "      <td>3.0</td>\n",
       "      <td>Sometimes</td>\n",
       "      <td>no</td>\n",
       "      <td>2.054193</td>\n",
       "      <td>1.414209</td>\n",
       "      <td>Sometimes</td>\n",
       "      <td>Public_Transportation</td>\n",
       "      <td>Obesity_Type_III</td>\n",
       "    </tr>\n",
       "    <tr>\n",
       "      <th>2109</th>\n",
       "      <td>Female</td>\n",
       "      <td>1999/06/01</td>\n",
       "      <td>1.739450</td>\n",
       "      <td>133.346641</td>\n",
       "      <td>yes</td>\n",
       "      <td>yes</td>\n",
       "      <td>3.0</td>\n",
       "      <td>3.0</td>\n",
       "      <td>Sometimes</td>\n",
       "      <td>no</td>\n",
       "      <td>2.852339</td>\n",
       "      <td>1.139107</td>\n",
       "      <td>Sometimes</td>\n",
       "      <td>Public_Transportation</td>\n",
       "      <td>Obesity_Type_III</td>\n",
       "    </tr>\n",
       "    <tr>\n",
       "      <th>2110</th>\n",
       "      <td>Female</td>\n",
       "      <td>2000/10/21</td>\n",
       "      <td>1.738836</td>\n",
       "      <td>133.472641</td>\n",
       "      <td>yes</td>\n",
       "      <td>yes</td>\n",
       "      <td>3.0</td>\n",
       "      <td>3.0</td>\n",
       "      <td>Sometimes</td>\n",
       "      <td>no</td>\n",
       "      <td>2.863513</td>\n",
       "      <td>1.026452</td>\n",
       "      <td>Sometimes</td>\n",
       "      <td>Public_Transportation</td>\n",
       "      <td>Obesity_Type_III</td>\n",
       "    </tr>\n",
       "  </tbody>\n",
       "</table>\n",
       "</div>"
      ],
      "text/plain": [
       "      Gender  Birth Date    Height      Weight family_history_with_overweight  \\\n",
       "2106  Female  2003/11/15  1.710730  131.408528                            yes   \n",
       "2107  Female  2002/08/05  1.748584  133.742943                            yes   \n",
       "2108  Female  2001/01/03  1.752206  133.689352                            yes   \n",
       "2109  Female  1999/06/01  1.739450  133.346641                            yes   \n",
       "2110  Female  2000/10/21  1.738836  133.472641                            yes   \n",
       "\n",
       "     High Calorie Meal Freq  Veggies in Meals freq  Daily Main Meals  \\\n",
       "2106                    yes                    3.0               3.0   \n",
       "2107                    yes                    3.0               3.0   \n",
       "2108                    yes                    3.0               3.0   \n",
       "2109                    yes                    3.0               3.0   \n",
       "2110                    yes                    3.0               3.0   \n",
       "\n",
       "     Snack Frequency Smoking  Daily Water Consumption  \\\n",
       "2106       Sometimes      no                 1.728139   \n",
       "2107       Sometimes      no                 2.005130   \n",
       "2108       Sometimes      no                 2.054193   \n",
       "2109       Sometimes      no                 2.852339   \n",
       "2110       Sometimes      no                 2.863513   \n",
       "\n",
       "      Weekly Physical Activity    Alcohol         Transportation  \\\n",
       "2106                  1.676269  Sometimes  Public_Transportation   \n",
       "2107                  1.341390  Sometimes  Public_Transportation   \n",
       "2108                  1.414209  Sometimes  Public_Transportation   \n",
       "2109                  1.139107  Sometimes  Public_Transportation   \n",
       "2110                  1.026452  Sometimes  Public_Transportation   \n",
       "\n",
       "         Obesity level  \n",
       "2106  Obesity_Type_III  \n",
       "2107  Obesity_Type_III  \n",
       "2108  Obesity_Type_III  \n",
       "2109  Obesity_Type_III  \n",
       "2110  Obesity_Type_III  "
      ]
     },
     "execution_count": 3,
     "metadata": {},
     "output_type": "execute_result"
    }
   ],
   "source": [
    "df.tail()"
   ]
  },
  {
   "cell_type": "code",
   "execution_count": 4,
   "id": "0f749b7a",
   "metadata": {},
   "outputs": [
    {
     "name": "stdout",
     "output_type": "stream",
     "text": [
      "Number of rows: 2111\n",
      "Number of columns: 15\n"
     ]
    }
   ],
   "source": [
    "print(f\"Number of rows: {df.shape[0]}\")\n",
    "print(f\"Number of columns: {df.shape[1]}\")"
   ]
  },
  {
   "cell_type": "code",
   "execution_count": 5,
   "id": "4963827f",
   "metadata": {},
   "outputs": [
    {
     "name": "stdout",
     "output_type": "stream",
     "text": [
      "<class 'pandas.core.frame.DataFrame'>\n",
      "RangeIndex: 2111 entries, 0 to 2110\n",
      "Data columns (total 15 columns):\n",
      " #   Column                          Non-Null Count  Dtype  \n",
      "---  ------                          --------------  -----  \n",
      " 0   Gender                          2111 non-null   object \n",
      " 1   Birth Date                      2111 non-null   object \n",
      " 2   Height                          2111 non-null   float64\n",
      " 3   Weight                          2111 non-null   object \n",
      " 4   family_history_with_overweight  2111 non-null   object \n",
      " 5   High Calorie Meal Freq          2111 non-null   object \n",
      " 6   Veggies in Meals freq           2111 non-null   float64\n",
      " 7   Daily Main Meals                2111 non-null   float64\n",
      " 8   Snack Frequency                 2101 non-null   object \n",
      " 9   Smoking                         2111 non-null   object \n",
      " 10  Daily Water Consumption         2111 non-null   float64\n",
      " 11  Weekly Physical Activity        2111 non-null   float64\n",
      " 12  Alcohol                         2111 non-null   object \n",
      " 13  Transportation                  2111 non-null   object \n",
      " 14  Obesity level                   2111 non-null   object \n",
      "dtypes: float64(5), object(10)\n",
      "memory usage: 247.5+ KB\n"
     ]
    }
   ],
   "source": [
    "df.info()"
   ]
  },
  {
   "cell_type": "code",
   "execution_count": 16,
   "id": "b7964880",
   "metadata": {},
   "outputs": [
    {
     "data": {
      "text/html": [
       "<div>\n",
       "<style scoped>\n",
       "    .dataframe tbody tr th:only-of-type {\n",
       "        vertical-align: middle;\n",
       "    }\n",
       "\n",
       "    .dataframe tbody tr th {\n",
       "        vertical-align: top;\n",
       "    }\n",
       "\n",
       "    .dataframe thead th {\n",
       "        text-align: right;\n",
       "    }\n",
       "</style>\n",
       "<table border=\"1\" class=\"dataframe\">\n",
       "  <thead>\n",
       "    <tr style=\"text-align: right;\">\n",
       "      <th></th>\n",
       "      <th>Height</th>\n",
       "      <th>Veggies in Meals freq</th>\n",
       "      <th>Daily Main Meals</th>\n",
       "      <th>Daily Water Consumption</th>\n",
       "      <th>Weekly Physical Activity</th>\n",
       "    </tr>\n",
       "  </thead>\n",
       "  <tbody>\n",
       "    <tr>\n",
       "      <th>count</th>\n",
       "      <td>2111.000000</td>\n",
       "      <td>2111.000000</td>\n",
       "      <td>2111.000000</td>\n",
       "      <td>2111.000000</td>\n",
       "      <td>2111.000000</td>\n",
       "    </tr>\n",
       "    <tr>\n",
       "      <th>mean</th>\n",
       "      <td>1.701677</td>\n",
       "      <td>2.419043</td>\n",
       "      <td>2.685628</td>\n",
       "      <td>2.008011</td>\n",
       "      <td>1.010298</td>\n",
       "    </tr>\n",
       "    <tr>\n",
       "      <th>std</th>\n",
       "      <td>0.093305</td>\n",
       "      <td>0.533927</td>\n",
       "      <td>0.778039</td>\n",
       "      <td>0.612953</td>\n",
       "      <td>0.850592</td>\n",
       "    </tr>\n",
       "    <tr>\n",
       "      <th>min</th>\n",
       "      <td>1.450000</td>\n",
       "      <td>1.000000</td>\n",
       "      <td>1.000000</td>\n",
       "      <td>1.000000</td>\n",
       "      <td>0.000000</td>\n",
       "    </tr>\n",
       "    <tr>\n",
       "      <th>25%</th>\n",
       "      <td>1.630000</td>\n",
       "      <td>2.000000</td>\n",
       "      <td>2.658738</td>\n",
       "      <td>1.584812</td>\n",
       "      <td>0.124505</td>\n",
       "    </tr>\n",
       "    <tr>\n",
       "      <th>50%</th>\n",
       "      <td>1.700499</td>\n",
       "      <td>2.385502</td>\n",
       "      <td>3.000000</td>\n",
       "      <td>2.000000</td>\n",
       "      <td>1.000000</td>\n",
       "    </tr>\n",
       "    <tr>\n",
       "      <th>75%</th>\n",
       "      <td>1.768464</td>\n",
       "      <td>3.000000</td>\n",
       "      <td>3.000000</td>\n",
       "      <td>2.477420</td>\n",
       "      <td>1.666678</td>\n",
       "    </tr>\n",
       "    <tr>\n",
       "      <th>max</th>\n",
       "      <td>1.980000</td>\n",
       "      <td>3.000000</td>\n",
       "      <td>4.000000</td>\n",
       "      <td>3.000000</td>\n",
       "      <td>3.000000</td>\n",
       "    </tr>\n",
       "  </tbody>\n",
       "</table>\n",
       "</div>"
      ],
      "text/plain": [
       "            Height  Veggies in Meals freq  Daily Main Meals  \\\n",
       "count  2111.000000            2111.000000       2111.000000   \n",
       "mean      1.701677               2.419043          2.685628   \n",
       "std       0.093305               0.533927          0.778039   \n",
       "min       1.450000               1.000000          1.000000   \n",
       "25%       1.630000               2.000000          2.658738   \n",
       "50%       1.700499               2.385502          3.000000   \n",
       "75%       1.768464               3.000000          3.000000   \n",
       "max       1.980000               3.000000          4.000000   \n",
       "\n",
       "       Daily Water Consumption  Weekly Physical Activity  \n",
       "count              2111.000000               2111.000000  \n",
       "mean                  2.008011                  1.010298  \n",
       "std                   0.612953                  0.850592  \n",
       "min                   1.000000                  0.000000  \n",
       "25%                   1.584812                  0.124505  \n",
       "50%                   2.000000                  1.000000  \n",
       "75%                   2.477420                  1.666678  \n",
       "max                   3.000000                  3.000000  "
      ]
     },
     "execution_count": 16,
     "metadata": {},
     "output_type": "execute_result"
    }
   ],
   "source": [
    "df.describe()"
   ]
  },
  {
   "cell_type": "markdown",
   "id": "821054c5",
   "metadata": {},
   "source": [
    "#### Check Duplicated Data"
   ]
  },
  {
   "cell_type": "code",
   "execution_count": 6,
   "id": "a47dc0cf",
   "metadata": {},
   "outputs": [
    {
     "name": "stdout",
     "output_type": "stream",
     "text": [
      "Empty DataFrame\n",
      "Columns: [Gender, Birth Date, Height, Weight, family_history_with_overweight, High Calorie Meal Freq, Veggies in Meals freq, Daily Main Meals, Snack Frequency, Smoking, Daily Water Consumption, Weekly Physical Activity, Alcohol, Transportation, Obesity level]\n",
      "Index: []\n"
     ]
    }
   ],
   "source": [
    "duplicates = df[df.duplicated()]\n",
    "\n",
    "print(duplicates)"
   ]
  },
  {
   "cell_type": "markdown",
   "id": "aff40033",
   "metadata": {},
   "source": [
    "#### Check Missing Value"
   ]
  },
  {
   "cell_type": "code",
   "execution_count": 7,
   "id": "66970bbf",
   "metadata": {},
   "outputs": [
    {
     "name": "stdout",
     "output_type": "stream",
     "text": [
      "\n",
      "Missing Values in Each Column:\n",
      "Gender                             0\n",
      "Birth Date                         0\n",
      "Height                             0\n",
      "Weight                             0\n",
      "family_history_with_overweight     0\n",
      "High Calorie Meal Freq             0\n",
      "Veggies in Meals freq              0\n",
      "Daily Main Meals                   0\n",
      "Snack Frequency                   10\n",
      "Smoking                            0\n",
      "Daily Water Consumption            0\n",
      "Weekly Physical Activity           0\n",
      "Alcohol                            0\n",
      "Transportation                     0\n",
      "Obesity level                      0\n",
      "dtype: int64\n"
     ]
    }
   ],
   "source": [
    "missing_values = df.isnull().sum()\n",
    "print(\"\\nMissing Values in Each Column:\")\n",
    "print(missing_values)"
   ]
  },
  {
   "cell_type": "markdown",
   "id": "d6988145",
   "metadata": {},
   "source": [
    "#### Checking Unique Value"
   ]
  },
  {
   "cell_type": "code",
   "execution_count": 8,
   "id": "37ae3846",
   "metadata": {},
   "outputs": [
    {
     "name": "stdout",
     "output_type": "stream",
     "text": [
      "\n",
      "\n",
      "Gender\n",
      "Male      1068\n",
      "Female    1043\n",
      "Name: count, dtype: int64\n",
      "\n",
      "\n",
      "Birth Date\n",
      "2003/03/06    4\n",
      "2004/08/29    4\n",
      "2001/02/09    4\n",
      "2006/08/02    4\n",
      "1998/04/29    4\n",
      "             ..\n",
      "1994/08/07    1\n",
      "2003/07/14    1\n",
      "2005/04/30    1\n",
      "2004/05/04    1\n",
      "1999/06/01    1\n",
      "Name: count, Length: 1730, dtype: int64\n",
      "\n",
      "\n",
      "Weight\n",
      "delapan puluh    59\n",
      "70.0             43\n",
      "50.0             42\n",
      "75.0             40\n",
      "60.0             37\n",
      "                 ..\n",
      "65.140408         1\n",
      "87.27989          1\n",
      "67.083121         1\n",
      "90.13868          1\n",
      "133.472641        1\n",
      "Name: count, Length: 1525, dtype: int64\n",
      "\n",
      "\n",
      "family_history_with_overweight\n",
      "yes    1726\n",
      "no      385\n",
      "Name: count, dtype: int64\n",
      "\n",
      "\n",
      "High Calorie Meal Freq\n",
      "yes    1866\n",
      "no      245\n",
      "Name: count, dtype: int64\n",
      "\n",
      "\n",
      "Snack Frequency\n",
      "Sometimes     1758\n",
      "Frequently     241\n",
      "Always          52\n",
      "no              50\n",
      "Name: count, dtype: int64\n",
      "\n",
      "\n",
      "Smoking\n",
      "no      2064\n",
      "yes       44\n",
      "hehe       3\n",
      "Name: count, dtype: int64\n",
      "\n",
      "\n",
      "Alcohol\n",
      "Sometimes     1401\n",
      "no             639\n",
      "Frequently      70\n",
      "Always           1\n",
      "Name: count, dtype: int64\n",
      "\n",
      "\n",
      "Transportation\n",
      "Public_Transportation    1580\n",
      "Automobile                457\n",
      "Walking                    56\n",
      "Motorbike                  11\n",
      "Bike                        7\n",
      "Name: count, dtype: int64\n",
      "\n",
      "\n",
      "Obesity level\n",
      "Obesity_Type_I         351\n",
      "Obesity_Type_III       324\n",
      "Obesity_Type_II        297\n",
      "Overweight_Level_I     290\n",
      "Overweight_Level_II    290\n",
      "Normal_Weight          287\n",
      "Insufficient_Weight    272\n",
      "Name: count, dtype: int64\n"
     ]
    }
   ],
   "source": [
    "for c in df.columns:\n",
    "  if df[c].dtype == 'object':\n",
    "    print(f\"\\n\")\n",
    "    print(df[c].value_counts())"
   ]
  },
  {
   "cell_type": "markdown",
   "id": "339d20e3",
   "metadata": {},
   "source": [
    "#### Boxplot For Checking Outlier Numerical Data"
   ]
  },
  {
   "cell_type": "code",
   "execution_count": 9,
   "id": "45a48d1f",
   "metadata": {
    "scrolled": true
   },
   "outputs": [
    {
     "data": {
      "image/png": "[encoded data removed]",
      "text/plain": [
       "<Figure size 1200x800 with 5 Axes>"
      ]
     },
     "metadata": {},
     "output_type": "display_data"
    }
   ],
   "source": [
    "c = ['Height', 'Veggies in Meals freq', 'Daily Main Meals', 'Daily Water Consumption', 'Weekly Physical Activity']\n",
    "plt.figure(figsize=(12, 8))\n",
    "for i, col in enumerate(c, 1):\n",
    "    plt.subplot(2, (len(c) + 1) // 2, i)\n",
    "    df[col].plot.box()\n",
    "    plt.title(col)\n",
    "plt.tight_layout()\n",
    "plt.show()"
   ]
  },
  {
   "cell_type": "markdown",
   "id": "446446a9",
   "metadata": {},
   "source": [
    "#### Check Outlier With Interquantile Range (IQR)"
   ]
  },
  {
   "cell_type": "code",
   "execution_count": 12,
   "id": "7d00bca6",
   "metadata": {},
   "outputs": [
    {
     "name": "stdout",
     "output_type": "stream",
     "text": [
      "Outliers in column Height:\n",
      "    Gender  Birth Date  Height Weight family_history_with_overweight  \\\n",
      "349   Male  2004/05/21    1.98  125.0                            yes   \n",
      "\n",
      "    High Calorie Meal Freq  Veggies in Meals freq  Daily Main Meals  \\\n",
      "349                    yes                    2.0               3.0   \n",
      "\n",
      "    Snack Frequency Smoking  Daily Water Consumption  \\\n",
      "349          Always      no                      3.0   \n",
      "\n",
      "     Weekly Physical Activity    Alcohol         Transportation  \\\n",
      "349                       1.0  Sometimes  Public_Transportation   \n",
      "\n",
      "      Obesity level  \n",
      "349  Obesity_Type_I  \n",
      "\n",
      "\n",
      "Outliers in column Veggies in Meals freq:\n",
      "Empty DataFrame\n",
      "Columns: [Gender, Birth Date, Height, Weight, family_history_with_overweight, High Calorie Meal Freq, Veggies in Meals freq, Daily Main Meals, Snack Frequency, Smoking, Daily Water Consumption, Weekly Physical Activity, Alcohol, Transportation, Obesity level]\n",
      "Index: []\n",
      "\n",
      "\n",
      "Outliers in column Daily Main Meals:\n",
      "      Gender  Birth Date    Height      Weight family_history_with_overweight  \\\n",
      "4       Male  2002/05/14  1.780000        89.8                             no   \n",
      "14      Male  2001/12/13  1.770000        60.0                            yes   \n",
      "16      Male  1997/01/31  1.930000       102.0                            yes   \n",
      "17    Female  1995/05/05  1.530000        78.0                             no   \n",
      "18    Female  1994/02/23  1.710000        82.0                            yes   \n",
      "...      ...         ...       ...         ...                            ...   \n",
      "1794    Male  1993/05/28  1.653876  102.583895                            yes   \n",
      "1795    Male  2003/12/02  1.657132  105.580491                            yes   \n",
      "1796    Male  2003/03/06  1.644751  101.067988                            yes   \n",
      "1797    Male  1998/01/03  1.660761  104.321463                            yes   \n",
      "1798    Male  1997/09/18  1.691510   102.59518                            yes   \n",
      "\n",
      "     High Calorie Meal Freq  Veggies in Meals freq  Daily Main Meals  \\\n",
      "4                        no               2.000000          1.000000   \n",
      "14                      yes               3.000000          1.000000   \n",
      "16                      yes               2.000000          1.000000   \n",
      "17                      yes               2.000000          1.000000   \n",
      "18                      yes               3.000000          4.000000   \n",
      "...                     ...                    ...               ...   \n",
      "1794                    yes               2.919526          2.142328   \n",
      "1795                    yes               2.724121          1.437959   \n",
      "1796                    yes               2.801992          1.343117   \n",
      "1797                    yes               2.748971          1.213431   \n",
      "1798                    yes               2.680375          1.089048   \n",
      "\n",
      "     Snack Frequency Smoking  Daily Water Consumption  \\\n",
      "4          Sometimes      no                 2.000000   \n",
      "14         Sometimes      no                 1.000000   \n",
      "16         Sometimes      no                 1.000000   \n",
      "17         Sometimes      no                 2.000000   \n",
      "18        Frequently     yes                 1.000000   \n",
      "...              ...     ...                      ...   \n",
      "1794       Sometimes      no                 1.175714   \n",
      "1795       Sometimes      no                 1.590418   \n",
      "1796       Sometimes      no                 1.128942   \n",
      "1797       Sometimes      no                 1.448875   \n",
      "1798       Sometimes      no                 1.366238   \n",
      "\n",
      "      Weekly Physical Activity    Alcohol         Transportation  \\\n",
      "4                     0.000000  Sometimes  Public_Transportation   \n",
      "14                    1.000000  Sometimes  Public_Transportation   \n",
      "16                    1.000000  Sometimes  Public_Transportation   \n",
      "17                    0.000000         no             Automobile   \n",
      "18                    0.000000         no             Automobile   \n",
      "...                        ...        ...                    ...   \n",
      "1794                  0.958555         no  Public_Transportation   \n",
      "1795                  0.029603         no  Public_Transportation   \n",
      "1796                  0.233987         no  Public_Transportation   \n",
      "1797                  0.128548         no  Public_Transportation   \n",
      "1798                  0.181324         no  Public_Transportation   \n",
      "\n",
      "            Obesity level  \n",
      "4     Overweight_Level_II  \n",
      "14          Normal_Weight  \n",
      "16    Overweight_Level_II  \n",
      "17         Obesity_Type_I  \n",
      "18    Overweight_Level_II  \n",
      "...                   ...  \n",
      "1794      Obesity_Type_II  \n",
      "1795      Obesity_Type_II  \n",
      "1796      Obesity_Type_II  \n",
      "1797      Obesity_Type_II  \n",
      "1798      Obesity_Type_II  \n",
      "\n",
      "[579 rows x 15 columns]\n",
      "\n",
      "\n",
      "Outliers in column Daily Water Consumption:\n",
      "Empty DataFrame\n",
      "Columns: [Gender, Birth Date, Height, Weight, family_history_with_overweight, High Calorie Meal Freq, Veggies in Meals freq, Daily Main Meals, Snack Frequency, Smoking, Daily Water Consumption, Weekly Physical Activity, Alcohol, Transportation, Obesity level]\n",
      "Index: []\n",
      "\n",
      "\n",
      "Outliers in column Weekly Physical Activity:\n",
      "Empty DataFrame\n",
      "Columns: [Gender, Birth Date, Height, Weight, family_history_with_overweight, High Calorie Meal Freq, Veggies in Meals freq, Daily Main Meals, Snack Frequency, Smoking, Daily Water Consumption, Weekly Physical Activity, Alcohol, Transportation, Obesity level]\n",
      "Index: []\n",
      "\n",
      "\n"
     ]
    }
   ],
   "source": [
    "outliers = {}\n",
    "\n",
    "for col in c:\n",
    "    Q1 = df[col].quantile(0.25)  \n",
    "    Q3 = df[col].quantile(0.75)  \n",
    "    IQR = Q3 - Q1                \n",
    "    lower_bound = Q1 - 1.5 * IQR \n",
    "    upper_bound = Q3 + 1.5 * IQR \n",
    "\n",
    "    outliers[col] = df[(df[col] < lower_bound) | (df[col] > upper_bound)]\n",
    "\n",
    "for col, data in outliers.items():\n",
    "    print(f\"Outliers in column {col}:\")\n",
    "    print(data)\n",
    "    print(\"\\n\")\n"
   ]
  },
  {
   "cell_type": "markdown",
   "id": "bef2c567",
   "metadata": {},
   "source": [
    "#### Check Data Distribution"
   ]
  },
  {
   "cell_type": "code",
   "execution_count": 13,
   "id": "77fba9b5",
   "metadata": {},
   "outputs": [
    {
     "data": {
      "image/png": "[encoded data removed]",
      "text/plain": [
       "<Figure size 1200x800 with 5 Axes>"
      ]
     },
     "metadata": {},
     "output_type": "display_data"
    }
   ],
   "source": [
    "plt.figure(figsize=(12, 8))\n",
    "for i, col in enumerate(c, 1):\n",
    "    plt.subplot(2, (len(c) + 1) // 2, i)\n",
    "    plt.hist(df[col], bins=20, color='blue', edgecolor='black', alpha=0.7)\n",
    "    plt.title(f\"Distribution of {col}\")\n",
    "plt.tight_layout()\n",
    "plt.show()"
   ]
  },
  {
   "cell_type": "markdown",
   "id": "3107244a",
   "metadata": {},
   "source": [
    "#### Skewness"
   ]
  },
  {
   "cell_type": "code",
   "execution_count": 39,
   "id": "76fc43cb",
   "metadata": {
    "scrolled": true
   },
   "outputs": [
    {
     "name": "stdout",
     "output_type": "stream",
     "text": [
      "Skewness of Height: -0.012845510609143367\n",
      "Skewness of Veggies in Meals freq: -0.4325981635212202\n",
      "Skewness of Daily Main Meals: -1.1063104486682382\n",
      "Skewness of Daily Water Consumption: -0.10483708374147253\n",
      "Skewness of Weekly Physical Activity: 0.49813533609460264\n"
     ]
    }
   ],
   "source": [
    "from scipy.stats import skew\n",
    "for col in c:\n",
    "    print(f\"Skewness of {col}: {skew(df[col])}\")"
   ]
  },
  {
   "cell_type": "markdown",
   "id": "8b20a886",
   "metadata": {},
   "source": [
    "### EDA Result\n",
    "#### Based on the Exploratory Data Analysis (EDA) results, here are the key findings from the dataset:\n",
    "- There are 2111 rows of data and 11 columns of data.\n",
    "- The Weight column is currently in 'object' dtype instead of the expected 'float64'\n",
    "\n",
    "From the unique value count : \n",
    "- The weight column has inconsistencies (e.g., \"delapan puluh\")\n",
    "- The smoking column has inconsistencies (e.g., \"hehe\") \n",
    "\n",
    "Duplicated\n",
    "- All columns do not contain duplicate data\n",
    "\n",
    "Missing Values:\n",
    "- 10 missing values in the Snack Frequency column\n",
    "- Other columns are complete with no missing values\n",
    "\n",
    "Outliers: \n",
    "- Height: Only 1 outlier identified (height 1.98m)\n",
    "- Daily Main Meals: 579 outliers present\n",
    "- No significant outliers found in water consumption, physical activity, and vegetable frequency\n",
    "\n",
    "Distribution Analysis:\n",
    "- Height: Normal distribution with near-zero skewness (-0.013)\n",
    "- Veggies in Meals: Bimodal distribution with negative skewness (-0.433)\n",
    "- Daily Main Meals: Strongly left-skewed distribution (-1.106)\n",
    "- Daily Water Consumption: Multimodal distribution with near-zero skewness (-0.105)\n",
    "- Weekly Physical Activity: Right-skewed distribution (0.498)\n",
    "\n",
    "General Characteristics:\n",
    "- Gender distribution is fairly balanced: Male (1068) and Female (1043)\n",
    "- There are 7 obesity level categories, with relatively even distribution: Obesity Type I (351 cases), Obesity Type III (324 cases), Obesity Type II (297 cases), Overweight Level I & II (290 cases each), Normal Weight (287 cases), Insufficient Weight (272 cases)\n",
    "\n",
    "Transportation:\n",
    "- Public transportation is most commonly used (1580)\n",
    "- Followed by automobiles (457)\n",
    "- Walking (56)\n",
    "- Motorbike (11)\n",
    "- Bike (7)\n",
    "\n",
    "Lifestyle Factors:\n",
    "- Family history with overweight is very high (1726 vs 385)\n",
    "- Majority of respondents consume high-calorie foods (1866 vs 245)\n",
    "- Alcohol consumption is dominated by occasional consumption (1401)\n",
    "- Vast majority are non-smokers (2064 vs 44)\n",
    "\n",
    "Snacking patterns:\n",
    "- Sometimes (1758)\n",
    "- Frequently (241)\n",
    "- Always (52)\n",
    "- Never (50)\n",
    "\n",
    "\n"
   ]
  },
  {
   "cell_type": "markdown",
   "id": "0838f54c",
   "metadata": {},
   "source": [
    "<span style=\"color: blue; font-size: 19px;\">Data Preparation</span>"
   ]
  },
  {
   "cell_type": "markdown",
   "id": "7b90f0c8",
   "metadata": {},
   "source": [
    "#### Based on the EDA results, here are the necessary data preparation steps that should be performed:\n",
    "\n",
    "\n",
    "1. Data Type Conversion:\n",
    "- Convert Weight column from object to float\n",
    "\n",
    "2. Handle Inconsistent Values:\n",
    "- Smoking column: Replace \"hehe\" with no since it was likely meant as a playful way to say they don't smoke\n",
    "- Weight column: Replace \"delapanpuluh\" with appropriate value \n",
    "\n",
    "3. Handle Missing Values:\n",
    "- Handle 10 missing values in Snack Frequency with new category 'Unknown'\n",
    "\n",
    "4. Handle Outliers:\n",
    "- Outliers in Daily Main Meals\n",
    "- Outliers in Height\n",
    "\n",
    "5. Feature Scaling/Normalization\n",
    "\n",
    "6. Encoding categorical columns"
   ]
  },
  {
   "cell_type": "markdown",
   "id": "015b7c4b",
   "metadata": {},
   "source": [
    "#### Data Type Conversion"
   ]
  },
  {
   "cell_type": "code",
   "execution_count": null,
   "id": "5c470766",
   "metadata": {},
   "outputs": [],
   "source": [
    "df['Weight'] = pd.to_numeric(df['Weight'])"
   ]
  },
  {
   "cell_type": "markdown",
   "id": "c55069a8",
   "metadata": {},
   "source": [
    "#### Handle Incosistent Value"
   ]
  },
  {
   "cell_type": "code",
   "execution_count": 21,
   "id": "ab62bf9b",
   "metadata": {},
   "outputs": [],
   "source": [
    "df['Weight'] = df['Weight'].replace('delapan puluh', '80.0')\n",
    "df['Smoking'] = df['Smoking'].replace('hehe', 'no')"
   ]
  },
  {
   "cell_type": "code",
   "execution_count": 22,
   "id": "6f0c865e",
   "metadata": {},
   "outputs": [
    {
     "name": "stdout",
     "output_type": "stream",
     "text": [
      "Weight\n",
      "80.0          59\n",
      "70.0          43\n",
      "50.0          42\n",
      "75.0          40\n",
      "60.0          37\n",
      "              ..\n",
      "65.140408      1\n",
      "87.27989       1\n",
      "67.083121      1\n",
      "90.13868       1\n",
      "133.472641     1\n",
      "Name: count, Length: 1525, dtype: int64\n"
     ]
    }
   ],
   "source": [
    "print(df['Weight'].value_counts())"
   ]
  },
  {
   "cell_type": "code",
   "execution_count": 23,
   "id": "fb41d1a4",
   "metadata": {},
   "outputs": [
    {
     "name": "stdout",
     "output_type": "stream",
     "text": [
      "Smoking\n",
      "no     2067\n",
      "yes      44\n",
      "Name: count, dtype: int64\n"
     ]
    }
   ],
   "source": [
    "print(df['Smoking'].value_counts())"
   ]
  },
  {
   "cell_type": "markdown",
   "id": "52ab978b",
   "metadata": {},
   "source": [
    "#### Handling Missing Value"
   ]
  },
  {
   "cell_type": "code",
   "execution_count": 41,
   "id": "204a6a08",
   "metadata": {},
   "outputs": [],
   "source": [
    "df['Snack Frequency'].fillna('Unknown', inplace=True)"
   ]
  },
  {
   "cell_type": "code",
   "execution_count": 45,
   "id": "267574d8",
   "metadata": {},
   "outputs": [
    {
     "name": "stdout",
     "output_type": "stream",
     "text": [
      "\n",
      "Missing Values in Each Column:\n",
      "Gender                            0\n",
      "Birth Date                        0\n",
      "Height                            0\n",
      "Weight                            0\n",
      "family_history_with_overweight    0\n",
      "High Calorie Meal Freq            0\n",
      "Veggies in Meals freq             0\n",
      "Daily Main Meals                  0\n",
      "Snack Frequency                   0\n",
      "Smoking                           0\n",
      "Daily Water Consumption           0\n",
      "Weekly Physical Activity          0\n",
      "Alcohol                           0\n",
      "Transportation                    0\n",
      "Obesity level                     0\n",
      "dtype: int64\n"
     ]
    }
   ],
   "source": [
    "missing_values = df.isnull().sum()\n",
    "print(\"\\nMissing Values in Each Column:\")\n",
    "print(missing_values)"
   ]
  },
  {
   "cell_type": "markdown",
   "id": "dfb23ea3",
   "metadata": {},
   "source": [
    "#### Handle Outliers"
   ]
  },
  {
   "cell_type": "code",
   "execution_count": 24,
   "id": "9407872d",
   "metadata": {},
   "outputs": [],
   "source": [
    "# Height\n",
    "df.loc[df['Height'] < 1.2, 'Height'] = df['Height'].median()\n",
    "df.loc[df['Height'] > 2.2, 'Height'] = df['Height'].median()"
   ]
  },
  {
   "cell_type": "code",
   "execution_count": 25,
   "id": "90ee89eb",
   "metadata": {},
   "outputs": [],
   "source": [
    "# Daily Main Meals\n",
    "df.loc[df['Daily Main Meals'] > 7, 'Daily Main Meals'] = 7\n",
    "df.loc[df['Daily Main Meals'] < 1, 'Daily Main Meals'] = 1"
   ]
  },
  {
   "cell_type": "markdown",
   "id": "2c809a20",
   "metadata": {},
   "source": [
    "#### Scaling For Numerical Columns"
   ]
  },
  {
   "cell_type": "code",
   "execution_count": 26,
   "id": "eedaab67",
   "metadata": {},
   "outputs": [],
   "source": [
    "from sklearn.preprocessing import StandardScaler\n",
    "numerical_columns = ['Height', 'Weight', 'Veggies in Meals freq', 'Daily Main Meals', \n",
    "                    'Daily Water Consumption', 'Weekly Physical Activity']\n",
    "\n",
    "\n",
    "scaler = StandardScaler()\n",
    "df[numerical_columns] = scaler.fit_transform(df[numerical_columns])\n"
   ]
  },
  {
   "cell_type": "markdown",
   "id": "cdcc3405",
   "metadata": {},
   "source": [
    "#### Encoding Categorical Columns"
   ]
  },
  {
   "cell_type": "code",
   "execution_count": 33,
   "id": "0db0b5d9",
   "metadata": {},
   "outputs": [],
   "source": [
    "from sklearn.preprocessing import LabelEncoder\n",
    "\n",
    "label_encoders = {}\n",
    "categorical_columns = ['Gender', 'family_history_with_overweight', 'High Calorie Meal Freq', \n",
    "                       'Snack Frequency', 'Smoking', 'Alcohol', 'Transportation', 'Obesity level']\n",
    "\n",
    "for column in categorical_columns:\n",
    "    le = LabelEncoder()\n",
    "    df[column] = le.fit_transform(df[column].astype(str))\n",
    "    label_encoders[column] = le"
   ]
  },
  {
   "cell_type": "code",
   "execution_count": 34,
   "id": "969f522e",
   "metadata": {},
   "outputs": [
    {
     "data": {
      "text/html": [
       "<div>\n",
       "<style scoped>\n",
       "    .dataframe tbody tr th:only-of-type {\n",
       "        vertical-align: middle;\n",
       "    }\n",
       "\n",
       "    .dataframe tbody tr th {\n",
       "        vertical-align: top;\n",
       "    }\n",
       "\n",
       "    .dataframe thead th {\n",
       "        text-align: right;\n",
       "    }\n",
       "</style>\n",
       "<table border=\"1\" class=\"dataframe\">\n",
       "  <thead>\n",
       "    <tr style=\"text-align: right;\">\n",
       "      <th></th>\n",
       "      <th>Gender</th>\n",
       "      <th>Birth Date</th>\n",
       "      <th>Height</th>\n",
       "      <th>Weight</th>\n",
       "      <th>family_history_with_overweight</th>\n",
       "      <th>High Calorie Meal Freq</th>\n",
       "      <th>Veggies in Meals freq</th>\n",
       "      <th>Daily Main Meals</th>\n",
       "      <th>Snack Frequency</th>\n",
       "      <th>Smoking</th>\n",
       "      <th>Daily Water Consumption</th>\n",
       "      <th>Weekly Physical Activity</th>\n",
       "      <th>Alcohol</th>\n",
       "      <th>Transportation</th>\n",
       "      <th>Obesity level</th>\n",
       "    </tr>\n",
       "  </thead>\n",
       "  <tbody>\n",
       "    <tr>\n",
       "      <th>0</th>\n",
       "      <td>0</td>\n",
       "      <td>2003/02/05</td>\n",
       "      <td>-0.875589</td>\n",
       "      <td>-0.862558</td>\n",
       "      <td>1</td>\n",
       "      <td>0</td>\n",
       "      <td>-0.785019</td>\n",
       "      <td>0.404153</td>\n",
       "      <td>2</td>\n",
       "      <td>0</td>\n",
       "      <td>-0.013073</td>\n",
       "      <td>-1.188039</td>\n",
       "      <td>3</td>\n",
       "      <td>3</td>\n",
       "      <td>1</td>\n",
       "    </tr>\n",
       "    <tr>\n",
       "      <th>1</th>\n",
       "      <td>0</td>\n",
       "      <td>2003/06/13</td>\n",
       "      <td>-1.947599</td>\n",
       "      <td>-1.168077</td>\n",
       "      <td>1</td>\n",
       "      <td>0</td>\n",
       "      <td>1.088342</td>\n",
       "      <td>0.404153</td>\n",
       "      <td>2</td>\n",
       "      <td>1</td>\n",
       "      <td>1.618759</td>\n",
       "      <td>2.339750</td>\n",
       "      <td>2</td>\n",
       "      <td>3</td>\n",
       "      <td>1</td>\n",
       "    </tr>\n",
       "    <tr>\n",
       "      <th>2</th>\n",
       "      <td>1</td>\n",
       "      <td>2001/06/25</td>\n",
       "      <td>1.054029</td>\n",
       "      <td>-0.366090</td>\n",
       "      <td>1</td>\n",
       "      <td>0</td>\n",
       "      <td>-0.785019</td>\n",
       "      <td>0.404153</td>\n",
       "      <td>2</td>\n",
       "      <td>0</td>\n",
       "      <td>-0.013073</td>\n",
       "      <td>1.163820</td>\n",
       "      <td>1</td>\n",
       "      <td>3</td>\n",
       "      <td>1</td>\n",
       "    </tr>\n",
       "    <tr>\n",
       "      <th>3</th>\n",
       "      <td>1</td>\n",
       "      <td>1997/08/14</td>\n",
       "      <td>1.054029</td>\n",
       "      <td>0.015808</td>\n",
       "      <td>0</td>\n",
       "      <td>0</td>\n",
       "      <td>1.088342</td>\n",
       "      <td>0.404153</td>\n",
       "      <td>2</td>\n",
       "      <td>0</td>\n",
       "      <td>-0.013073</td>\n",
       "      <td>1.163820</td>\n",
       "      <td>1</td>\n",
       "      <td>4</td>\n",
       "      <td>5</td>\n",
       "    </tr>\n",
       "    <tr>\n",
       "      <th>4</th>\n",
       "      <td>1</td>\n",
       "      <td>2002/05/14</td>\n",
       "      <td>0.839627</td>\n",
       "      <td>0.122740</td>\n",
       "      <td>0</td>\n",
       "      <td>0</td>\n",
       "      <td>-0.785019</td>\n",
       "      <td>-2.167023</td>\n",
       "      <td>2</td>\n",
       "      <td>0</td>\n",
       "      <td>-0.013073</td>\n",
       "      <td>-1.188039</td>\n",
       "      <td>2</td>\n",
       "      <td>3</td>\n",
       "      <td>6</td>\n",
       "    </tr>\n",
       "  </tbody>\n",
       "</table>\n",
       "</div>"
      ],
      "text/plain": [
       "   Gender  Birth Date    Height    Weight  family_history_with_overweight  \\\n",
       "0       0  2003/02/05 -0.875589 -0.862558                               1   \n",
       "1       0  2003/06/13 -1.947599 -1.168077                               1   \n",
       "2       1  2001/06/25  1.054029 -0.366090                               1   \n",
       "3       1  1997/08/14  1.054029  0.015808                               0   \n",
       "4       1  2002/05/14  0.839627  0.122740                               0   \n",
       "\n",
       "   High Calorie Meal Freq  Veggies in Meals freq  Daily Main Meals  \\\n",
       "0                       0              -0.785019          0.404153   \n",
       "1                       0               1.088342          0.404153   \n",
       "2                       0              -0.785019          0.404153   \n",
       "3                       0               1.088342          0.404153   \n",
       "4                       0              -0.785019         -2.167023   \n",
       "\n",
       "   Snack Frequency  Smoking  Daily Water Consumption  \\\n",
       "0                2        0                -0.013073   \n",
       "1                2        1                 1.618759   \n",
       "2                2        0                -0.013073   \n",
       "3                2        0                -0.013073   \n",
       "4                2        0                -0.013073   \n",
       "\n",
       "   Weekly Physical Activity  Alcohol  Transportation  Obesity level  \n",
       "0                 -1.188039        3               3              1  \n",
       "1                  2.339750        2               3              1  \n",
       "2                  1.163820        1               3              1  \n",
       "3                  1.163820        1               4              5  \n",
       "4                 -1.188039        2               3              6  "
      ]
     },
     "execution_count": 34,
     "metadata": {},
     "output_type": "execute_result"
    }
   ],
   "source": [
    "df.head()"
   ]
  },
  {
   "cell_type": "markdown",
   "id": "3138ab82",
   "metadata": {},
   "source": [
    "<span style=\"color: red; font-size: 19px;\"> B. Random Forest and XGBoost model</span>\n"
   ]
  },
  {
   "cell_type": "markdown",
   "id": "e5849671",
   "metadata": {},
   "source": [
    "#### Spliting Into Training and Testing Data"
   ]
  },
  {
   "cell_type": "code",
   "execution_count": 35,
   "id": "becaa005",
   "metadata": {},
   "outputs": [],
   "source": [
    "from sklearn.model_selection import train_test_split\n",
    "X = df.drop(['Obesity level', 'Birth Date'], axis=1)\n",
    "y = df['Obesity level']\n",
    "    \n",
    "X_train, X_test, y_train, y_test = train_test_split(X, y, test_size=0.2, random_state=42)\n",
    "    "
   ]
  },
  {
   "cell_type": "markdown",
   "id": "f03b72d5",
   "metadata": {},
   "source": [
    "#### Random Forest"
   ]
  },
  {
   "cell_type": "code",
   "execution_count": 37,
   "id": "e75d2551",
   "metadata": {
    "scrolled": true
   },
   "outputs": [
    {
     "name": "stdout",
     "output_type": "stream",
     "text": [
      "Random Forest Results:\n",
      "Best parameters: {'max_depth': 20, 'min_samples_split': 2, 'n_estimators': 300}\n",
      "\n",
      "Classification Report:\n",
      "              precision    recall  f1-score   support\n",
      "\n",
      "           0       1.00      0.96      0.98        56\n",
      "           1       0.86      0.92      0.89        62\n",
      "           2       0.99      0.96      0.97        78\n",
      "           3       0.98      0.98      0.98        58\n",
      "           4       1.00      1.00      1.00        63\n",
      "           5       0.89      0.88      0.88        56\n",
      "           6       0.96      0.98      0.97        50\n",
      "\n",
      "    accuracy                           0.96       423\n",
      "   macro avg       0.95      0.95      0.95       423\n",
      "weighted avg       0.96      0.96      0.96       423\n",
      "\n",
      "Random Forest Accuracy: 0.9550827423167849\n"
     ]
    }
   ],
   "source": [
    "from sklearn.ensemble import RandomForestClassifier\n",
    "from sklearn.metrics import accuracy_score, classification_report\n",
    "from sklearn.model_selection import GridSearchCV\n",
    "\n",
    "rf_param_grid = {\n",
    "    'n_estimators': [100, 200, 300],\n",
    "    'max_depth': [10, 20, 30],\n",
    "    'min_samples_split': [2, 5, 10]\n",
    "}\n",
    "    \n",
    "rf = RandomForestClassifier(random_state=42)\n",
    "rf_grid = GridSearchCV(rf, rf_param_grid, cv=5, scoring='accuracy')\n",
    "rf_grid.fit(X_train, y_train)\n",
    "    \n",
    "print(\"Random Forest Results:\")\n",
    "print(f\"Best parameters: {rf_grid.best_params_}\")\n",
    "print(\"\\nClassification Report:\")\n",
    "y_pred_rf = rf_grid.predict(X_test)\n",
    "print(classification_report(y_test, y_pred_rf))\n",
    "print(\"Random Forest Accuracy:\", accuracy_score(y_test, y_pred_rf))   \n",
    "    "
   ]
  },
  {
   "cell_type": "markdown",
   "id": "7a0523fb",
   "metadata": {},
   "source": [
    "#### XGBoost"
   ]
  },
  {
   "cell_type": "code",
   "execution_count": 38,
   "id": "497f2cad",
   "metadata": {},
   "outputs": [
    {
     "name": "stdout",
     "output_type": "stream",
     "text": [
      "\n",
      "XGBoost Results:\n",
      "Best parameters: {'learning_rate': 0.3, 'max_depth': 6, 'n_estimators': 300}\n",
      "\n",
      "Classification Report:\n",
      "              precision    recall  f1-score   support\n",
      "\n",
      "           0       0.93      1.00      0.97        56\n",
      "           1       0.96      0.89      0.92        62\n",
      "           2       1.00      0.97      0.99        78\n",
      "           3       0.98      1.00      0.99        58\n",
      "           4       1.00      1.00      1.00        63\n",
      "           5       0.91      0.95      0.93        56\n",
      "           6       0.98      0.98      0.98        50\n",
      "\n",
      "    accuracy                           0.97       423\n",
      "   macro avg       0.97      0.97      0.97       423\n",
      "weighted avg       0.97      0.97      0.97       423\n",
      "\n"
     ]
    }
   ],
   "source": [
    "import xgboost as xgb\n",
    "from sklearn.model_selection import GridSearchCV\n",
    "xgb_param_grid = {\n",
    "    'n_estimators': [100, 200, 300],\n",
    "    'max_depth': [3, 6, 9],\n",
    "    'learning_rate': [0.01, 0.1, 0.3]\n",
    "}\n",
    "    \n",
    "xgb_model = xgb.XGBClassifier(random_state=42)\n",
    "xgb_grid = GridSearchCV(xgb_model, xgb_param_grid, cv=5, scoring='accuracy')\n",
    "xgb_grid.fit(X_train, y_train)\n",
    "    \n",
    "print(\"\\nXGBoost Results:\")\n",
    "print(f\"Best parameters: {xgb_grid.best_params_}\")\n",
    "print(\"\\nClassification Report:\")\n",
    "y_pred_xgb = xgb_grid.predict(X_test)\n",
    "print(classification_report(y_test, y_pred_xgb))"
   ]
  },
  {
   "cell_type": "markdown",
   "id": "61721aed",
   "metadata": {},
   "source": [
    "<span style=\"color: red; font-size: 19px;\"> C. Evaluation Results and Conclusion</span>"
   ]
  },
  {
   "cell_type": "markdown",
   "id": "7b0a46be",
   "metadata": {},
   "source": [
    "<span style=\"color: blue; font-size: 18px;\">Random Forest Evaluation</span>"
   ]
  },
  {
   "cell_type": "markdown",
   "id": "d6e2b462",
   "metadata": {},
   "source": [
    "#### Accuracy, F1-Score, Precision, Recall"
   ]
  },
  {
   "cell_type": "code",
   "execution_count": 59,
   "id": "00b8339f",
   "metadata": {},
   "outputs": [
    {
     "name": "stdout",
     "output_type": "stream",
     "text": [
      "\n",
      "Classification Report:\n",
      "              precision    recall  f1-score   support\n",
      "\n",
      "           0       1.00      0.96      0.98        56\n",
      "           1       0.86      0.92      0.89        62\n",
      "           2       0.99      0.96      0.97        78\n",
      "           3       0.98      0.98      0.98        58\n",
      "           4       1.00      1.00      1.00        63\n",
      "           5       0.89      0.88      0.88        56\n",
      "           6       0.96      0.98      0.97        50\n",
      "\n",
      "    accuracy                           0.96       423\n",
      "   macro avg       0.95      0.95      0.95       423\n",
      "weighted avg       0.96      0.96      0.96       423\n",
      "\n",
      "Accuracy: 0.96\n",
      "F1-Score: 0.96\n",
      "Precision: 0.96\n",
      "Recall: 0.96\n"
     ]
    }
   ],
   "source": [
    "from sklearn.metrics import precision_score, recall_score, f1_score, roc_auc_score, classification_report, accuracy_score, confusion_matrix\n",
    "y_pred_rf = rf_grid.predict(X_test)\n",
    "\n",
    "print(\"\\nClassification Report:\")\n",
    "print(classification_report(y_test, y_pred_rf))\n",
    "\n",
    "accuracy_rf = round(accuracy_score(y_test, y_pred_rf), 2)\n",
    "precision_rf = round(precision_score(y_test, y_pred_rf, average='weighted'), 2)\n",
    "recall_rf = round(recall_score(y_test, y_pred_rf, average='weighted'), 2)\n",
    "f1_rf = round(f1_score(y_test, y_pred_rf, average='weighted'), 2)\n",
    "\n",
    "print(f\"Accuracy: {accuracy_rf}\")\n",
    "print(f\"F1-Score: {f1_rf}\")\n",
    "print(f\"Precision: {precision_rf}\")\n",
    "print(f\"Recall: {recall_rf}\")"
   ]
  },
  {
   "cell_type": "markdown",
   "id": "4cdd2c10",
   "metadata": {},
   "source": [
    "#### Confusion Matrix"
   ]
  },
  {
   "cell_type": "code",
   "execution_count": 57,
   "id": "02edf01a",
   "metadata": {},
   "outputs": [
    {
     "name": "stdout",
     "output_type": "stream",
     "text": [
      "\n",
      "Confusion Matrix:\n",
      "[[54  2  0  0  0  0  0]\n",
      " [ 0 57  0  0  0  5  0]\n",
      " [ 0  2 75  1  0  0  0]\n",
      " [ 0  0  1 57  0  0  0]\n",
      " [ 0  0  0  0 63  0  0]\n",
      " [ 0  5  0  0  0 49  2]\n",
      " [ 0  0  0  0  0  1 49]]\n"
     ]
    }
   ],
   "source": [
    "print(\"\\nConfusion Matrix:\")\n",
    "print(confusion_matrix(y_test, y_pred_rf))"
   ]
  },
  {
   "cell_type": "markdown",
   "id": "0ba0a916",
   "metadata": {},
   "source": [
    "#### ROC-AUC Score"
   ]
  },
  {
   "cell_type": "code",
   "execution_count": 66,
   "id": "cc4a5c8a",
   "metadata": {},
   "outputs": [
    {
     "name": "stdout",
     "output_type": "stream",
     "text": [
      "\n",
      "ROC-AUC Score: 0.997\n"
     ]
    }
   ],
   "source": [
    "y_prob_rf = rf_grid.predict_proba(X_test) \n",
    "roc_auc_rf = round(roc_auc_score(y_test, y_prob_rf, multi_class='ovr', average='weighted'),3)\n",
    "print(f\"\\nROC-AUC Score: {roc_auc_rf}\")"
   ]
  },
  {
   "cell_type": "markdown",
   "id": "543cfbac",
   "metadata": {},
   "source": [
    "<span style=\"color: blue; font-size: 18px;\">XGBoost Evaluation</span>"
   ]
  },
  {
   "cell_type": "markdown",
   "id": "b3f507b1",
   "metadata": {},
   "source": [
    "#### Accuracy, F1-Score, Precision, Recall"
   ]
  },
  {
   "cell_type": "code",
   "execution_count": 63,
   "id": "7513e479",
   "metadata": {
    "scrolled": true
   },
   "outputs": [
    {
     "name": "stdout",
     "output_type": "stream",
     "text": [
      "\n",
      "Classification Report (XGBoost):\n",
      "              precision    recall  f1-score   support\n",
      "\n",
      "           0       0.93      1.00      0.97        56\n",
      "           1       0.96      0.89      0.92        62\n",
      "           2       1.00      0.97      0.99        78\n",
      "           3       0.98      1.00      0.99        58\n",
      "           4       1.00      1.00      1.00        63\n",
      "           5       0.91      0.95      0.93        56\n",
      "           6       0.98      0.98      0.98        50\n",
      "\n",
      "    accuracy                           0.97       423\n",
      "   macro avg       0.97      0.97      0.97       423\n",
      "weighted avg       0.97      0.97      0.97       423\n",
      "\n",
      "Accuracy: 0.97\n",
      "F1-Score: 0.97\n",
      "Precision: 0.97\n",
      "Recall: 0.97\n"
     ]
    }
   ],
   "source": [
    "y_pred_xgb = xgb_grid.predict(X_test)\n",
    "\n",
    "print(\"\\nClassification Report (XGBoost):\")\n",
    "print(classification_report(y_test, y_pred_xgb))\n",
    "\n",
    "accuracy_xgb = round(accuracy_score(y_test, y_pred_xgb), 2)\n",
    "precision_xgb = round(precision_score(y_test, y_pred_xgb, average='weighted'), 2)\n",
    "recall_xgb = round(recall_score(y_test, y_pred_xgb, average='weighted'), 2)\n",
    "f1_xgb = round(f1_score(y_test, y_pred_xgb, average='weighted'), 2)\n",
    "\n",
    "print(f\"Accuracy: {accuracy_xgb}\")\n",
    "print(f\"F1-Score: {f1_xgb}\")\n",
    "print(f\"Precision: {precision_xgb}\")\n",
    "print(f\"Recall: {recall_xgb}\")\n"
   ]
  },
  {
   "cell_type": "markdown",
   "id": "076232a2",
   "metadata": {},
   "source": [
    "#### Confusion Matrix"
   ]
  },
  {
   "cell_type": "code",
   "execution_count": 64,
   "id": "d46b4ed8",
   "metadata": {},
   "outputs": [
    {
     "name": "stdout",
     "output_type": "stream",
     "text": [
      "\n",
      "Confusion Matrix:\n",
      "[[56  0  0  0  0  0  0]\n",
      " [ 4 55  0  0  0  3  0]\n",
      " [ 0  0 76  1  0  1  0]\n",
      " [ 0  0  0 58  0  0  0]\n",
      " [ 0  0  0  0 63  0  0]\n",
      " [ 0  2  0  0  0 53  1]\n",
      " [ 0  0  0  0  0  1 49]]\n"
     ]
    }
   ],
   "source": [
    "print(\"\\nConfusion Matrix:\")\n",
    "print(confusion_matrix(y_test, y_pred_xgb))"
   ]
  },
  {
   "cell_type": "markdown",
   "id": "aced02ec",
   "metadata": {},
   "source": [
    "#### ROC-AUC Score"
   ]
  },
  {
   "cell_type": "code",
   "execution_count": 65,
   "id": "79c53ec7",
   "metadata": {
    "scrolled": true
   },
   "outputs": [
    {
     "name": "stdout",
     "output_type": "stream",
     "text": [
      "ROC-AUC Score: 0.999\n"
     ]
    }
   ],
   "source": [
    "y_prob_xgb = xgb_grid.predict_proba(X_test)  \n",
    "roc_auc_xgb = round(roc_auc_score(y_test, y_prob_xgb, multi_class='ovr', average='weighted'), 3)\n",
    "print(f\"ROC-AUC Score: {roc_auc_xgb}\")"
   ]
  },
  {
   "cell_type": "markdown",
   "id": "0192197e",
   "metadata": {},
   "source": [
    "<span style=\"color: green; font-size: 17px;\">ROC Curve Comparison</span>"
   ]
  },
  {
   "cell_type": "code",
   "execution_count": 67,
   "id": "9261d9b0",
   "metadata": {
    "scrolled": true
   },
   "outputs": [
    {
     "data": {
      "image/png": "[encoded data removed]",
      "text/plain": [
       "<Figure size 1000x600 with 1 Axes>"
      ]
     },
     "metadata": {},
     "output_type": "display_data"
    }
   ],
   "source": [
    "fpr_rf, tpr_rf, _ = roc_curve(y_test, y_prob_rf[:,1], pos_label=1) \n",
    "fpr_xgb, tpr_xgb, _ = roc_curve(y_test, y_prob_xgb[:,1], pos_label=1)\n",
    "\n",
    "plt.figure(figsize=(10, 6))\n",
    "plt.plot(fpr_rf, tpr_rf, color='blue', lw=2, label=f\"Random Forest ROC (AUC = {roc_auc_rf:.3f})\")\n",
    "plt.plot(fpr_xgb, tpr_xgb, color='green', lw=2, label=f\"XGBoost ROC (AUC = {roc_auc_xgb:.3f})\")\n",
    "plt.plot([0, 1], [0, 1], color='gray', linestyle='--')\n",
    "plt.xlim([0.0, 1.0])\n",
    "plt.ylim([0.0, 1.05])\n",
    "plt.xlabel('False Positive Rate')\n",
    "plt.ylabel('True Positive Rate')\n",
    "plt.title('ROC Curve Comparison')\n",
    "plt.legend(loc='lower right')\n",
    "plt.show()"
   ]
  },
  {
   "cell_type": "markdown",
   "id": "6e03b04e",
   "metadata": {},
   "source": [
    "### Conclusion\n",
    "From the evaluation results of both the Random Forest and XGBoost models, here are the following observations:\n",
    "\n",
    "<span style=\"color: brown; font-size: 15px;\">1. Accuracy</span>\n",
    "     \n",
    "        Random Forest: 0.96\n",
    "        This means that 96% of the predictions made by the Random Forest model were correct.\n",
    "\n",
    "        XGBoost: 0.97\n",
    "        The XGBoost model achieved a higher accuracy of 97%, indicating it performed slightly better at predicting the correct labels than Random Forest.\n",
    "\n",
    "XGBoost is marginally better than Random Forest (97% vs. 96%).\n",
    "    \n",
    "<span style=\"color: brown; font-size: 15px;\">2. Precision</span>\n",
    "\n",
    "Precision measures how many of the predicted positive instances are actually positive.\n",
    "\n",
    "    Random Forest: 0.96\n",
    "    This means that 96% of the instances predicted as positive were correct. The model performed well in minimizing false positives.\n",
    "\n",
    "    XGBoost: 0.97\n",
    "    XGBoost achieved a higher precision score (97%), indicating fewer false positives compared to Random Forest. This suggests that XGBoost is better at identifying the correct positive predictions.\n",
    "\n",
    "<span style=\"color: brown; font-size: 15px;\">3. Recall</span>\n",
    "\n",
    "Recall, also known as sensitivity or true positive rate, measures how many of the actual positive instances were correctly identified. \n",
    "\n",
    "    Random Forest: 0.96\n",
    "    This means that 96% of the actual positive instances were identified by the model. While this is a high recall rate, it could still be improved.\n",
    "\n",
    "    XGBoost: 0.97\n",
    "    XGBoost achieved a slightly higher recall of 97%, meaning it correctly identified a higher percentage of the actual positive instances compared to Random Forest. This is important because a higher recall means fewer false negatives, and thus, better identification of the positive cases.\n",
    "\n",
    "<span style=\"color: brown; font-size: 15px;\">4. F1-Score</span>\n",
    "\n",
    "F1-score is the harmonic mean of precision and recall. It balances the two metrics, especially when there is an imbalance between them.\n",
    "\n",
    "    Random Forest: 0.96\n",
    "    The F1-score of 0.96 suggests that Random Forest strikes a good balance between precision and recall, with both metrics being high.\n",
    "\n",
    "    XGBoost: 0.97\n",
    "    The F1-score of 0.97 for XGBoost indicates that it has a better overall balance between precision and recall, which is a key aspect for a well-performing model. A higher F1-score means that the model has a better trade-off between minimizing false positives and false negatives.\n",
    "\n",
    "<span style=\"color: brown; font-size: 15px;\">5. ROC-AUC Score</span>\n",
    "\n",
    "The ROC-AUC (Receiver Operating Characteristic - Area Under Curve) score measures the model's ability to distinguish between classes. It is the area under the ROC curve, where a value closer to 1 indicates a better performing model.\n",
    "\n",
    "    Random Forest: 0.997\n",
    "    A ROC-AUC score of 0.997 is very high, indicating that the Random Forest model has a very strong ability to differentiate between classes.\n",
    "\n",
    "    XGBoost: 0.999\n",
    "    XGBoost has a slightly better ROC-AUC score of 0.999, which suggests that it is even more effective at distinguishing between the different classes compared to Random Forest.\n",
    "\n",
    " XGBoost outperforms Random Forest with a score of 0.999 compared to 0.997, showing it has better discriminatory power.\n",
    " \n",
    "<span style=\"color: brown; font-size: 15px;\">6. Confusion Matrix</span>\n",
    "\n",
    "The confusion matrix shows the true vs. predicted values, and helps to visualize where the model is making errors:\n",
    "\n",
    "    Random Forest:\n",
    "        The confusion matrix reveals a small number of misclassifications. Specifically, class 1 had some false positives (5), and class 6 had one false positive, but overall the matrix shows that most predictions are correct.\n",
    "    XGBoost:\n",
    "        The confusion matrix for XGBoost shows even fewer misclassifications, with almost perfect prediction for most classes. However, there are still a few errors, especially with class 1, where 4 instances were misclassified as class 0. But still, XGBoost handles misclassifications better overall.\n",
    "\n",
    "\n",
    "<span style=\"color: green; font-size: 15px;\">While both Random Forest and XGBoost performed excellently, XGBoost is the better model based on the evaluation metrics. It outperforms Random Forest in all key metrics: accuracy, precision, recall, F1-score, and ROC-AUC score.</span>"
   ]
  },
  {
   "cell_type": "markdown",
   "id": "08ca4d6a",
   "metadata": {},
   "source": [
    "<span style=\"color: red; font-size: 19px;\">D. Feature Importance Analysis</span>"
   ]
  },
  {
   "cell_type": "code",
   "execution_count": 69,
   "id": "a596dd34",
   "metadata": {},
   "outputs": [
    {
     "data": {
      "image/png": "[encoded data removed]",
      "text/plain": [
       "<Figure size 1000x600 with 1 Axes>"
      ]
     },
     "metadata": {},
     "output_type": "display_data"
    }
   ],
   "source": [
    "xgb_model = xgb.XGBClassifier(random_state=42)\n",
    "xgb_model.fit(X_train, y_train)\n",
    "\n",
    "importance = xgb_model.feature_importances_\n",
    "\n",
    "feature_importance_df = pd.DataFrame({\n",
    "    'Feature': X_train.columns,\n",
    "    'Importance': importance\n",
    "})\n",
    "\n",
    "feature_importance_df = feature_importance_df.sort_values(by='Importance', ascending=False)\n",
    "\n",
    "plt.figure(figsize=(10,6))\n",
    "plt.barh(feature_importance_df['Feature'], feature_importance_df['Importance'])\n",
    "plt.xlabel('Importance')\n",
    "plt.title('Feature Importance (XGBoost)')\n",
    "plt.gca().invert_yaxis()  \n",
    "plt.show()\n"
   ]
  },
  {
   "cell_type": "code",
   "execution_count": 70,
   "id": "0017df47",
   "metadata": {
    "scrolled": true
   },
   "outputs": [
    {
     "name": "stdout",
     "output_type": "stream",
     "text": [
      "                           Feature  Importance\n",
      "0                           Gender    0.337397\n",
      "2                           Weight    0.174520\n",
      "5            Veggies in Meals freq    0.103402\n",
      "11                         Alcohol    0.083952\n",
      "1                           Height    0.058724\n",
      "4           High Calorie Meal Freq    0.053957\n",
      "7                  Snack Frequency    0.047945\n",
      "6                 Daily Main Meals    0.040511\n",
      "8                          Smoking    0.034067\n",
      "9          Daily Water Consumption    0.030403\n",
      "10        Weekly Physical Activity    0.019951\n",
      "12                  Transportation    0.007803\n",
      "3   family_history_with_overweight    0.007368\n"
     ]
    }
   ],
   "source": [
    "print(feature_importance_df)"
   ]
  },
  {
   "cell_type": "markdown",
   "id": "70eb8a2d",
   "metadata": {},
   "source": [
    "- The most important features in predicting obesity level are Gender and Weight, which are intuitive and directly related to obesity. Lifestyle factors such as Veggies in Meals Frequency, Alcohol Consumption, High Calorie Meal Frequency, and Snack Frequency also play a significant role, highlighting the impact of diet and habits.\n",
    "\n",
    "- Height, Smoking, and Daily Water Consumption have a moderate influence, while factors like Physical Activity, Transportation, and Family History with Overweight have a smaller impact on the model's predictions.\n"
   ]
  },
  {
   "cell_type": "markdown",
   "id": "bbcd013a",
   "metadata": {},
   "source": [
    "<span style=\"color: red; font-size: 19px;\"> E. Explanation Video</span>"
   ]
  },
  {
   "cell_type": "markdown",
   "id": "53cc6473",
   "metadata": {},
   "source": [
    "#### Youtube\n",
    "https://youtu.be/cK3PX2MXNLY\n",
    "\n",
    "#### Google Drive\n",
    "https://drive.google.com/file/d/1sK3X0zok4hhvFppVfg4zZKLfKGUQwCIi/view?usp=sharing"
   ]
  }
 ],
 "metadata": {
  "kernelspec": {
   "display_name": "Python 3 (ipykernel)",
   "language": "python",
   "name": "python3"
  },
  "language_info": {
   "codemirror_mode": {
    "name": "ipython",
    "version": 3
   },
   "file_extension": ".py",
   "mimetype": "text/x-python",
   "name": "python",
   "nbconvert_exporter": "python",
   "pygments_lexer": "ipython3",
   "version": "3.11.5"
  }
 },
 "nbformat": 4,
 "nbformat_minor": 5
}
